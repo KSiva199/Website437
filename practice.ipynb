{
 "cells": [
  {
   "cell_type": "code",
   "execution_count": 3,
   "metadata": {},
   "outputs": [
    {
     "name": "stdout",
     "output_type": "stream",
     "text": [
      "[{'AssetID': 1, 'Parent Asset': 'Demo', 'Room Number': 'Snell 120', 'Asset Type': 'Bulding'}]\n"
     ]
    }
   ],
   "source": [
    "from Assets import Assets\n",
    "u=Assets()\n",
    "u.getAll()\n",
    "print(u.data)"
   ]
  },
  {
   "cell_type": "code",
   "execution_count": 4,
   "metadata": {},
   "outputs": [],
   "source": [
    "from Users import Users\n",
    "o=Users()\n",
    "o.getById(7)\n",
    "o.data[0]['UserFirstName'] = 'Rahul'\n",
    "o.data[0]['UserLastName'] = 'Shuk'\n",
    "o.data[0]['Username'] = 'Rahul@gmail.com'\n",
    "o.data[0]['Password'] = 'rshiva'  \n",
    "o.data[0]['Password2'] = 'rshiva'\n",
    "o.data[0]['PhoneNumber'] = '315603737848'\n",
    "o.data[0]['Role'] = 'Requester'\n",
    "o.update()\n"
   ]
  },
  {
   "cell_type": "code",
   "execution_count": 2,
   "metadata": {},
   "outputs": [
    {
     "name": "stdout",
     "output_type": "stream",
     "text": [
      "[{'UserID': 6, 'UserFirstName': 'Sandeep', 'UserLastName': 'Lingam', 'Username': 'sandeep@gmail.com', 'Password': 'sandeep123', 'PhoneNumber': 2147483647, 'Role': 'Requester', 'LocationID': 13}]\n"
     ]
    }
   ],
   "source": [
    "from Users import Users\n",
    "o=Users()\n",
    "o.getById('6')\n",
    "print(o.data)"
   ]
  }
 ],
 "metadata": {
  "kernelspec": {
   "display_name": "Python 3",
   "language": "python",
   "name": "python3"
  },
  "language_info": {
   "codemirror_mode": {
    "name": "ipython",
    "version": 3
   },
   "file_extension": ".py",
   "mimetype": "text/x-python",
   "name": "python",
   "nbconvert_exporter": "python",
   "pygments_lexer": "ipython3",
   "version": "3.10.2"
  },
  "orig_nbformat": 4
 },
 "nbformat": 4,
 "nbformat_minor": 2
}

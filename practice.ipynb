{
 "cells": [
  {
   "cell_type": "code",
   "execution_count": 3,
   "metadata": {},
   "outputs": [
    {
     "name": "stdout",
     "output_type": "stream",
     "text": [
      "[{'AssetID': 1, 'Parent Asset': 'Demo', 'Room Number': 'Snell 120', 'Asset Type': 'Bulding'}]\n"
     ]
    }
   ],
   "source": [
    "from Assets import Assets\n",
    "u=Assets()\n",
    "u.getAll()\n",
    "print(u.data)"
   ]
  },
  {
   "cell_type": "code",
   "execution_count": 5,
   "metadata": {},
   "outputs": [
    {
     "name": "stdout",
     "output_type": "stream",
     "text": [
      "Jason@gmail.com\n"
     ]
    }
   ],
   "source": [
    "from Users import Users\n",
    "o=Users()\n",
    "o.getByUsername('jason@gmail.com')\n",
    "print(o.data[0]['Username'])"
   ]
  },
  {
   "cell_type": "code",
   "execution_count": 1,
   "metadata": {},
   "outputs": [
    {
     "name": "stdout",
     "output_type": "stream",
     "text": [
      "[{'UserID': 1, 'UserFirstName': 'shiva', 'UserLastName': 'ram', 'Username': 'shiva@123', 'Password': 'shiva123', 'PhoneNumber': 2147483647, 'Role': 'HVAC', 'LocationID': 1}]\n"
     ]
    }
   ],
   "source": [
    "from Users import Users\n",
    "o=Users()\n",
    "o.getById('1')\n",
    "print(o.data)"
   ]
  }
 ],
 "metadata": {
  "kernelspec": {
   "display_name": "Python 3",
   "language": "python",
   "name": "python3"
  },
  "language_info": {
   "codemirror_mode": {
    "name": "ipython",
    "version": 3
   },
   "file_extension": ".py",
   "mimetype": "text/x-python",
   "name": "python",
   "nbconvert_exporter": "python",
   "pygments_lexer": "ipython3",
   "version": "3.10.2"
  },
  "orig_nbformat": 4
 },
 "nbformat": 4,
 "nbformat_minor": 2
}

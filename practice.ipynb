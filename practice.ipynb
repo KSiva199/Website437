{
 "cells": [
  {
   "cell_type": "code",
   "execution_count": 9,
   "metadata": {},
   "outputs": [
    {
     "ename": "ImportError",
     "evalue": "cannot import name 'Assets' from 'Assets' (/Users/ksr/Python CU/Website437/Assets.py)",
     "output_type": "error",
     "traceback": [
      "\u001b[0;31m---------------------------------------------------------------------------\u001b[0m",
      "\u001b[0;31mImportError\u001b[0m                               Traceback (most recent call last)",
      "\u001b[1;32m/Users/ksr/Python CU/Website437/practice.ipynb Cell 1\u001b[0m in \u001b[0;36m<cell line: 1>\u001b[0;34m()\u001b[0m\n\u001b[0;32m----> <a href='vscode-notebook-cell:/Users/ksr/Python%20CU/Website437/practice.ipynb#W0sZmlsZQ%3D%3D?line=0'>1</a>\u001b[0m \u001b[39mfrom\u001b[39;00m \u001b[39mAssets\u001b[39;00m \u001b[39mimport\u001b[39;00m Assets\n\u001b[1;32m      <a href='vscode-notebook-cell:/Users/ksr/Python%20CU/Website437/practice.ipynb#W0sZmlsZQ%3D%3D?line=1'>2</a>\u001b[0m u\u001b[39m=\u001b[39mbaseObject()\n\u001b[1;32m      <a href='vscode-notebook-cell:/Users/ksr/Python%20CU/Website437/practice.ipynb#W0sZmlsZQ%3D%3D?line=2'>3</a>\u001b[0m u\u001b[39m.\u001b[39mgetAll()\n",
      "\u001b[0;31mImportError\u001b[0m: cannot import name 'Assets' from 'Assets' (/Users/ksr/Python CU/Website437/Assets.py)"
     ]
    }
   ],
   "source": [
    "from Assets import Assets\n",
    "u=baseObject()\n",
    "u.getAll()"
   ]
  },
  {
   "cell_type": "code",
   "execution_count": 12,
   "metadata": {},
   "outputs": [
    {
     "ename": "ImportError",
     "evalue": "cannot import name 'Assets' from 'Assets' (/Users/ksr/Python CU/Website437/Assets.py)",
     "output_type": "error",
     "traceback": [
      "\u001b[0;31m---------------------------------------------------------------------------\u001b[0m",
      "\u001b[0;31mImportError\u001b[0m                               Traceback (most recent call last)",
      "\u001b[1;32m/Users/ksr/Python CU/Website437/practice.ipynb Cell 2\u001b[0m in \u001b[0;36m<cell line: 1>\u001b[0;34m()\u001b[0m\n\u001b[0;32m----> <a href='vscode-notebook-cell:/Users/ksr/Python%20CU/Website437/practice.ipynb#W1sZmlsZQ%3D%3D?line=0'>1</a>\u001b[0m \u001b[39mfrom\u001b[39;00m \u001b[39mAssets\u001b[39;00m \u001b[39mimport\u001b[39;00m Assets\n",
      "\u001b[0;31mImportError\u001b[0m: cannot import name 'Assets' from 'Assets' (/Users/ksr/Python CU/Website437/Assets.py)"
     ]
    }
   ],
   "source": [
    "from Assets import Assets"
   ]
  }
 ],
 "metadata": {
  "kernelspec": {
   "display_name": "Python 3",
   "language": "python",
   "name": "python3"
  },
  "language_info": {
   "codemirror_mode": {
    "name": "ipython",
    "version": 3
   },
   "file_extension": ".py",
   "mimetype": "text/x-python",
   "name": "python",
   "nbconvert_exporter": "python",
   "pygments_lexer": "ipython3",
   "version": "3.10.2"
  },
  "orig_nbformat": 4
 },
 "nbformat": 4,
 "nbformat_minor": 2
}

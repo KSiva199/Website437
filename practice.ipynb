{
 "cells": [
  {
   "cell_type": "code",
   "execution_count": 3,
   "metadata": {},
   "outputs": [
    {
     "name": "stdout",
     "output_type": "stream",
     "text": [
      "[{'AssetID': 1, 'Parent Asset': 'Demo', 'Room Number': 'Snell 120', 'Asset Type': 'Bulding'}]\n"
     ]
    }
   ],
   "source": [
    "from Assets import Assets\n",
    "u=Assets()\n",
    "u.getAll()\n",
    "print(u.data)"
   ]
  },
  {
   "cell_type": "code",
   "execution_count": 41,
   "metadata": {},
   "outputs": [
    {
     "name": "stdout",
     "output_type": "stream",
     "text": [
      "shiva@123\n"
     ]
    }
   ],
   "source": [
    "from Users import Users\n",
    "u=Users()\n",
    "u.getByUsername('shiva@123')\n",
    "print(u.data[0]['User Username'])"
   ]
  }
 ],
 "metadata": {
  "kernelspec": {
   "display_name": "Python 3",
   "language": "python",
   "name": "python3"
  },
  "language_info": {
   "codemirror_mode": {
    "name": "ipython",
    "version": 3
   },
   "file_extension": ".py",
   "mimetype": "text/x-python",
   "name": "python",
   "nbconvert_exporter": "python",
   "pygments_lexer": "ipython3",
   "version": "3.10.2"
  },
  "orig_nbformat": 4
 },
 "nbformat": 4,
 "nbformat_minor": 2
}

{
 "cells": [
  {
   "cell_type": "code",
   "execution_count": 3,
   "metadata": {},
   "outputs": [
    {
     "name": "stdout",
     "output_type": "stream",
     "text": [
      "[{'AssetID': 1, 'Parent Asset': 'Demo', 'Room Number': 'Snell 120', 'Asset Type': 'Bulding'}]\n"
     ]
    }
   ],
   "source": [
    "from Assets import Assets\n",
    "u=Assets()\n",
    "u.getAll()\n",
    "print(u.data)"
   ]
  },
  {
   "cell_type": "code",
   "execution_count": 33,
   "metadata": {},
   "outputs": [
    {
     "data": {
      "text/plain": [
       "[{'UserID': 1,\n",
       "  'User FN': 'shiva',\n",
       "  'User LN': 'ram',\n",
       "  'User Username': 'shiva@123',\n",
       "  'Password': 'shiva123',\n",
       "  'Phone Number': 2147483647,\n",
       "  'Role': 'Select Option',\n",
       "  'Shop': 'Select Option',\n",
       "  'User Location/AssetID': 0}]"
      ]
     },
     "execution_count": 33,
     "metadata": {},
     "output_type": "execute_result"
    }
   ],
   "source": [
    "from Users import Users\n",
    "u=Users()\n",
    "u.getByUsername('shiva@123')"
   ]
  }
 ],
 "metadata": {
  "kernelspec": {
   "display_name": "Python 3",
   "language": "python",
   "name": "python3"
  },
  "language_info": {
   "codemirror_mode": {
    "name": "ipython",
    "version": 3
   },
   "file_extension": ".py",
   "mimetype": "text/x-python",
   "name": "python",
   "nbconvert_exporter": "python",
   "pygments_lexer": "ipython3",
   "version": "3.10.2"
  },
  "orig_nbformat": 4
 },
 "nbformat": 4,
 "nbformat_minor": 2
}
